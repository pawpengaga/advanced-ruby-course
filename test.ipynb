{
 "cells": [
  {
   "cell_type": "code",
   "execution_count": 1,
   "metadata": {},
   "outputs": [
    {
     "ename": "TypeError",
     "evalue": "no implicit conversion of IRB::Statement::Expression into String",
     "output_type": "error",
     "traceback": [
      "\u001b[31mTypeError\u001b[0m: no implicit conversion of IRB::Statement::Expression into String",
      "C:/Ruby31-x64/lib/ruby/gems/3.1.0/gems/irb-1.8.3/lib/irb/workspace.rb:117:in `eval'",
      "C:/Ruby31-x64/lib/ruby/gems/3.1.0/gems/irb-1.8.3/lib/irb/workspace.rb:117:in `evaluate'",
      "C:/Ruby31-x64/lib/ruby/gems/3.1.0/gems/irb-1.8.3/lib/irb/context.rb:525:in `evaluate'",
      "C:/Ruby31-x64/lib/ruby/gems/3.1.0/gems/iruby-0.8.0/lib/iruby/backend.rb:60:in `eval'",
      "C:/Ruby31-x64/lib/ruby/gems/3.1.0/gems/iruby-0.8.0/lib/iruby/backend.rb:16:in `eval'",
      "C:/Ruby31-x64/lib/ruby/gems/3.1.0/gems/iruby-0.8.0/lib/iruby/kernel.rb:204:in `execute_request'",
      "C:/Ruby31-x64/lib/ruby/gems/3.1.0/gems/iruby-0.8.0/lib/iruby/kernel.rb:139:in `dispatch'",
      "C:/Ruby31-x64/lib/ruby/gems/3.1.0/gems/iruby-0.8.0/lib/iruby/kernel.rb:127:in `run'",
      "C:/Ruby31-x64/lib/ruby/gems/3.1.0/gems/iruby-0.8.0/lib/iruby/kernel_app.rb:90:in `run_kernel'",
      "C:/Ruby31-x64/lib/ruby/gems/3.1.0/gems/iruby-0.8.0/lib/iruby/kernel_app.rb:13:in `run'",
      "C:/Ruby31-x64/lib/ruby/gems/3.1.0/gems/iruby-0.8.0/lib/iruby/application.rb:110:in `run'",
      "C:/Ruby31-x64/lib/ruby/gems/3.1.0/gems/iruby-0.8.0/exe/iruby:7:in `<top (required)>'",
      "C:/Ruby31-x64/bin/iruby:32:in `load'",
      "C:/Ruby31-x64/bin/iruby:32:in `<main>'"
     ]
    }
   ],
   "source": [
    "print \"sdsdsdo\""
   ]
  }
 ],
 "metadata": {
  "kernelspec": {
   "display_name": "Ruby 3.1.3",
   "language": "ruby",
   "name": "ruby"
  },
  "language_info": {
   "file_extension": ".rb",
   "mimetype": "application/x-ruby",
   "name": "ruby",
   "version": "3.1.3"
  }
 },
 "nbformat": 4,
 "nbformat_minor": 2
}
