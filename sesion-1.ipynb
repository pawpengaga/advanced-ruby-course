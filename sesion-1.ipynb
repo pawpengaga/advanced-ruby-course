{
 "cells": [
  {
   "cell_type": "markdown",
   "metadata": {},
   "source": [
    "# Section 1: Getting ready to go further in Ruby 💎"
   ]
  },
  {
   "cell_type": "markdown",
   "metadata": {},
   "source": [
    "### This course is based on <a href=\"https://zlibrary-cl.se/book/1224893/f68d45/the-book-of-ruby-a-handson-guide-for-the-adventurous.html\">The book of Ruby</a>\n",
    "\n",
    "### The <a href=\"https://ruby-doc.org/3.1.3/\">docs</a> for MY VERSION OF RUBY (3.1.3)\n",
    "\n",
    "###### THIS IS NOT A BEGINNER'S COURSE\n",
    "\n",
    "I'd like to rely in \"The little book of Ruby\""
   ]
  },
  {
   "cell_type": "markdown",
   "metadata": {},
   "source": [
    "## 1️⃣5️⃣ de Abril"
   ]
  },
  {
   "cell_type": "markdown",
   "metadata": {},
   "source": [
    "### Ante la duda, referirse a los pdf's de esta carpeta 💀"
   ]
  },
  {
   "cell_type": "code",
   "execution_count": 1,
   "metadata": {},
   "outputs": [],
   "source": [
    "100.times do |y|\n",
    "  if y % 2 == 0\n",
    "    print \"✨\"\n",
    "  else\n",
    "    print \"🌸\"\n",
    "  end\n",
    "end\n",
    "puts \"\\n¡FUNCIONÓ!\""
   ]
  },
  {
   "cell_type": "markdown",
   "metadata": {},
   "source": [
    "###### The best way of learning is simply to do it"
   ]
  },
  {
   "cell_type": "markdown",
   "metadata": {},
   "source": [
    "### Complex types of tests in Ruby"
   ]
  },
  {
   "cell_type": "code",
   "execution_count": 3,
   "metadata": {},
   "outputs": [],
   "source": [
    "# This should print a message from the module\n",
    "require_relative \"my-source/a1-contitionaltest\"\n",
    "\n",
    "puts A1.conditionalTest"
   ]
  },
  {
   "cell_type": "markdown",
   "metadata": {},
   "source": [
    "#### Simple ruby test"
   ]
  },
  {
   "cell_type": "code",
   "execution_count": 3,
   "metadata": {},
   "outputs": [],
   "source": [
    "x = 10\n",
    "y = 20\n",
    "puts \"El valor original de Y: #{y}\"\n",
    "\n",
    "# Nice one liner\n",
    "if x == 10 then y = 3 unless y == 20 end # Estoy resperata el valor de Y basado en el propio valor de Y\n",
    "\n",
    "# Bloque con multiples comprobaciones\n",
    "if x == 10 then y = 3\n",
    "elsif x == 5 then y = 4\n",
    "else y = 5\n",
    "end\n",
    "puts y"
   ]
  },
  {
   "cell_type": "markdown",
   "metadata": {},
   "source": [
    "### Comprobación simple\n",
    "###### Del capítulo 6 del libro"
   ]
  },
  {
   "cell_type": "code",
   "execution_count": 4,
   "metadata": {},
   "outputs": [],
   "source": [
    "# The Book of Ruby - http://www.sapphiresteel.com\n",
    "\n",
    "x = 1\n",
    "## over Multiple lines...\n",
    "if x == 1 then\t# with 'then'\n",
    "\tputs( 'ok' )\n",
    "end\n",
    "\n",
    "if x == 1\t\t# without 'then'\n",
    "\tputs( 'ok' )\n",
    "end\n",
    "\n",
    "## On a single line...\n",
    "if x == 1 then puts( 'ok' ) end\t# with 'then'"
   ]
  },
  {
   "cell_type": "markdown",
   "metadata": {},
   "source": [
    "### Comprobación usando AND y OR\n",
    "\n",
    "Este es un código que revisa si es un día libre o no considerando además las horas extra"
   ]
  },
  {
   "cell_type": "code",
   "execution_count": 5,
   "metadata": {},
   "outputs": [],
   "source": [
    "# The Book of Ruby - http://www.sapphiresteel.com\n",
    "\n",
    "def dayIs( aDay )\n",
    "\tworking_overtime = true\n",
    "\tif aDay == 'Saturday' or (aDay == 'Sunday' and not working_overtime)\n",
    "\t\tdaytype = 'holiday'\n",
    "\t\tputs( \"Hurrah!\" )\n",
    "\telse\n",
    "\t\tdaytype = 'working day'\n",
    "\tend\n",
    "\treturn daytype\n",
    "end\n",
    "\n",
    "day1 = \"Monday\"\n",
    "day2 = \"Saturday\"\n",
    "print(day1 + \" is a \" + dayIs( day1 ) + \"\\n\" )\n",
    "print(day2 + \" is a \" + dayIs( day2 ) + \"\\n\" )"
   ]
  },
  {
   "cell_type": "markdown",
   "metadata": {},
   "source": [
    "### My take in this one"
   ]
  },
  {
   "cell_type": "code",
   "execution_count": 1,
   "metadata": {},
   "outputs": [
    {
     "name": "stdout",
     "output_type": "stream",
     "text": [
      "Monday is a working day, Buuuuh\n",
      "Saturday is a holiday, YAY!\n"
     ]
    }
   ],
   "source": [
    "def todayIs(day)\n",
    "  working_overtime = true\n",
    "\n",
    "  #if day == 'Saturday' || (day == 'Sunday' && !working_overtime) # Esto es valido aqui\n",
    "  if day == 'Saturday' or (day == 'Sunday' and not working_overtime) #It is important to intend the evaluations using parenthesis\n",
    "    daytype = 'holiday'\n",
    "    message = 'YAY!'\n",
    "  else\n",
    "    daytype = 'working day'\n",
    "    message = 'Buuuuh'\n",
    "  end\n",
    "  return \"#{daytype}, #{message}\"\n",
    "end\n",
    "\n",
    "day1 = \"Monday\"\n",
    "day2 = \"Saturday\"\n",
    "puts \"#{day1} is a #{todayIs(day1)}\"\n",
    "puts \"#{day2} is a #{todayIs(day2)}\""
   ]
  },
  {
   "cell_type": "markdown",
   "metadata": {},
   "source": [
    "### ❗ Importante saber\n",
    "\n",
    "Los operadores exclusivos de Ruby:\n",
    "- AND\n",
    "- OR\n",
    "- NOT\n",
    "\n",
    "No son completamente intercambiables con sus equivalentes de C:\n",
    "\n",
    "- &&\n",
    "- ||\n",
    "- !"
   ]
  },
  {
   "cell_type": "markdown",
   "metadata": {},
   "source": [
    "*Una de las consideraciones sobre Ruby es que, al ser tan flexible, es muy fácil encontrarse con otro programador que hace las cosas muy distinto a como estás acostumbrado*\n",
    "\n",
    "### Otra aproximación al respecto"
   ]
  },
  {
   "cell_type": "code",
   "execution_count": 2,
   "metadata": {},
   "outputs": [
    {
     "name": "stdout",
     "output_type": "stream",
     "text": [
      "Monday is a working day\n",
      "Hurrah!\n",
      "Saturday is a holiday\n",
      "-----------------------------------------------\n",
      "Monday is a working day\n",
      "Hurrah!\n",
      "Saturday is a holiday\n"
     ]
    }
   ],
   "source": [
    "# The Book of Ruby - http://www.sapphiresteel.com\n",
    "\n",
    "# Estilo Ruby\n",
    "\n",
    "def dayIs( aDay )\n",
    "\tworking_overtime = true\n",
    "\tif aDay == 'Saturday' or (aDay == 'Sunday' and not working_overtime)#1️⃣\n",
    "\t\tdaytype = 'holiday'\n",
    "\t\tputs( \"Hurrah!\" )\n",
    "\telse\n",
    "\t\tdaytype = 'working day'\n",
    "\tend\n",
    "\treturn daytype\n",
    "end\n",
    "\n",
    "# Estilo C\n",
    "\n",
    "def dayIs2( aDay )\n",
    "\tworking_overtime = true\n",
    "\tif aDay == 'Saturday' || (aDay == 'Sunday' &&  !working_overtime) #2️⃣\n",
    "\t\tdaytype = 'holiday'\n",
    "\t\tputs( \"Hurrah!\" )\n",
    "\telse\n",
    "\t\tdaytype = 'working day'\n",
    "\tend\n",
    "\treturn daytype\n",
    "end\n",
    "\n",
    "day1 = \"Monday\"\n",
    "day2 = \"Saturday\"\n",
    "print(day1 + \" is a \" + dayIs( day1 ) + \"\\n\" )\n",
    "print(day2 + \" is a \" + dayIs( day2 ) + \"\\n\" )\n",
    "puts \"-----------------------------------------------\"\n",
    "print(day1 + \" is a \" + dayIs2( day1 ) + \"\\n\" )\n",
    "print(day2 + \" is a \" + dayIs2( day2 ) + \"\\n\" )"
   ]
  },
  {
   "cell_type": "markdown",
   "metadata": {},
   "source": [
    "***Este comportamentiento se debe a que ambos estilos tienen precedencia distinta***"
   ]
  },
  {
   "cell_type": "markdown",
   "metadata": {},
   "source": [
    "### Un destacamiento en UNLESS\n",
    "\n",
    "Una evaluación UNLESS es lo opuesto a una evaluación IF"
   ]
  },
  {
   "cell_type": "code",
   "execution_count": 7,
   "metadata": {},
   "outputs": [],
   "source": [
    "# The Book of Ruby - http://www.sapphiresteel.com\n",
    "\n",
    "# The unless test here is equivalent to...\n",
    "def dayIs( aDay )\n",
    "  #if !(aDay == 'Saturday' or aDay == 'Sunday') #3️⃣\n",
    "\tunless aDay == 'Saturday' or aDay == 'Sunday'\n",
    "\t\tdaytype = 'weekday'\n",
    "\telse\n",
    "\t\tdaytype = 'weekend'\n",
    "\tend\n",
    "\treturn daytype\n",
    "end\n",
    "\n",
    "\n",
    "\n",
    "day1 = \"Monday\"\n",
    "day2 = \"Saturday\"\n",
    "print(day1 + \" is a \" + dayIs( day1 ) + \"\\n\" )\n",
    "print(day2 + \" is a \" + dayIs( day2 ) + \"\\n\" )"
   ]
  },
  {
   "cell_type": "markdown",
   "metadata": {},
   "source": [
    "### Otro destacamiento en UNLESS\n",
    "\n",
    "Este es un código que evalúa las horas de sueño de una persona"
   ]
  },
  {
   "cell_type": "code",
   "execution_count": 9,
   "metadata": {},
   "outputs": [],
   "source": [
    "# The Book of Ruby - http://www.sapphiresteel.com\n",
    "\n",
    "$hours_asleep = 7\n",
    "DEBUG = true\n",
    "somevar = 100\n",
    "\n",
    "def tired\t\n",
    "\tif $hours_asleep >= 8 then\n",
    " \t\treturn false\n",
    " \telse\n",
    " \t\treturn true\n",
    " \tend \t\t\n",
    "end\n",
    "\n",
    "def snore\n",
    "\tputs('snore....')\n",
    "end\n",
    "\n",
    "def sleep\n",
    " \tputs(\"z\" * $hours_asleep ) \n",
    "end\n",
    "\n",
    "# if an unless modifiers\n",
    "puts( '1' )\n",
    "sleep if tired #4️⃣ Se puede anteponer la acción deseada a la condición\n",
    "\n",
    "puts( '2' )\n",
    "begin \n",
    "\tsleep \n",
    "\tsnore\n",
    "end if tired\n",
    "\n",
    "puts( '3' )\n",
    "sleep unless not tired\n",
    "\n",
    "puts( '4' )\n",
    "begin \n",
    "\tsleep \n",
    "\tsnore\n",
    "end unless not tired\n",
    "\n",
    "puts( \"somevar = #{somevar}\" ) if DEBUG "
   ]
  },
  {
   "cell_type": "markdown",
   "metadata": {},
   "source": [
    "### My own evaluations of this"
   ]
  },
  {
   "cell_type": "markdown",
   "metadata": {},
   "source": [
    "``if`` y ``unless not`` son equivalentes\n",
    "\n",
    "``if not`` y ``unless`` son equivalentes"
   ]
  },
  {
   "cell_type": "code",
   "execution_count": 10,
   "metadata": {},
   "outputs": [],
   "source": [
    "# Este código no debería arrojar ningún resultado tras las evaluaciones\n",
    "tired = false\n",
    "\n",
    "puts \"ZZZZZZZ\" unless not tired\n",
    "puts \"zzzzzzz\" if tired\n",
    "\n",
    "tired = true\n",
    "\n",
    "puts \"WOW\" unless tired\n",
    "puts \"wow\" if not tired"
   ]
  },
  {
   "cell_type": "markdown",
   "metadata": {},
   "source": [
    "### Case statements"
   ]
  },
  {
   "cell_type": "code",
   "execution_count": 11,
   "metadata": {},
   "outputs": [],
   "source": [
    "# The Book of Ruby - http://www.sapphiresteel.com\n",
    "\n",
    "# Se definen los casos para todos los días de la semana\n",
    "def showDay( i )\n",
    "\tcase( i )\n",
    "\t\twhen 1 then puts(\"It's Monday\" )\n",
    "\t\twhen 2 then puts(\"It's Tuesday\" )\n",
    "\t\twhen 3 then puts(\"It's Wednesday\" )\n",
    "\t\twhen 4 then puts(\"It's Thursday\" )\n",
    "\t\twhen 5 then puts(\"It's Friday\" )\n",
    "\t\twhen (6..7) then puts( \"Yippee! It's the weekend! \" ) # 5️⃣ Se puede evaluar por rangos\n",
    "\t\telse puts( \"That's not a real day!\" )\n",
    "\tend\n",
    "end\n",
    "\n",
    "# Se muestran todas las condiciones por medio de una iteración\n",
    "for i in 1..8 do\n",
    "\tshowDay( i )\n",
    "end"
   ]
  },
  {
   "cell_type": "markdown",
   "metadata": {},
   "source": [
    "#### *En los ``case`` de Ruby, cuando una condición es cumplida, se aplica el ``break`` de forma automática*"
   ]
  },
  {
   "cell_type": "markdown",
   "metadata": {},
   "source": [
    "#### Notas 📓\n",
    "\n",
    "> 1️⃣ Si se cumple la condición entre los primeros dos:\n",
    ">\n",
    "> ``Saturady OR Sunday``\n",
    ">\n",
    "> Retornará un ***valor booleano***, que luego se compará con el resto de la expresión:\n",
    ">\n",
    "> ``AND NOT working_overtime``\n",
    ">\n",
    "> De la siguiente manera:\n",
    ">\n",
    "> Si el día fuera Sábado:\n",
    ">\n",
    "> ``if true AND true``\n",
    ">\n",
    "> Si el día fuera Lunes\n",
    ">\n",
    "> ``if false AND true``\n",
    ">\n",
    "> ##### Para solucionar esto se usa el paréntesis.\n",
    "\n",
    "> 2️⃣ Si la primera condición evaluada es TRUE, entonces la ejecución de la evaluación llega hasta ahí\n",
    ">\n",
    "> ##### En este caso, sábado siempre será Holiday ignorando el resto de la condición\n",
    "\n",
    "\n",
    "> 3️⃣ Aquí se ejemplifica como un UNLESS es la reversión ``!()`` de un IF\n",
    "\n",
    "> 4️⃣ Se puede anteponer la acción deseada a la condición\n",
    "\n",
    "> 5️⃣ Se puede evaluar por rangos"
   ]
  },
  {
   "cell_type": "markdown",
   "metadata": {},
   "source": [
    "# Section 2: Classes, class methods and singletons 🚶‍♀️"
   ]
  },
  {
   "cell_type": "markdown",
   "metadata": {},
   "source": [
    "##### Estructura básica de una clase\n",
    "\n",
    "- Definición de clases\n",
    "- Creación y uso de métodos de instancia\n",
    "- Guardado de objetos en variables para usar sus métodos"
   ]
  },
  {
   "cell_type": "code",
   "execution_count": 1,
   "metadata": {},
   "outputs": [],
   "source": [
    "# Sintaxis para crear una clase\n",
    "class MyClass\n",
    "  def myMethod\n",
    "    puts \"Hola tilines\"\n",
    "  end\n",
    "\n",
    "  # def MyClass.aClassMethod #Este también sirve\n",
    "  def self.aClassMethod\n",
    "    puts \"Que onda y el self?\"\n",
    "  end\n",
    "end\n",
    "\n",
    "# Se asigna el objeto creado a una variable\n",
    "obj = MyClass.new\n",
    "\n",
    "# Ejecuciones\n",
    "obj.myMethod\n",
    "MyClass.aClassMethod"
   ]
  },
  {
   "cell_type": "markdown",
   "metadata": {},
   "source": [
    "#### Uso experimental de los file_methods (Capítulo 7) para probar un punto 😶‍🌫️\n",
    "\n",
    "Uno de los más grandes objetivos de los métodos de clase, es permitir la existencia de funciones listas para usar, usando características potentes con muy poco código al frente\n",
    "\n",
    "Ver documentación sobre la <a href=\"https://ruby-doc.org/3.1.3/File.html\">clase File</a>"
   ]
  },
  {
   "cell_type": "code",
   "execution_count": 13,
   "metadata": {},
   "outputs": [],
   "source": [
    "fn = 'section-1.ipynb'\n",
    "if File.exist?(fn) then\n",
    "\tputs(\"\\\"#{File.expand_path(fn)}\\\"\")\n",
    "\tputs \"Aquí iría el basename: #{File.basename(fn)}\"\n",
    "\tputs \"Aquí iría el dirname: #{File.dirname(fn)}\"\n",
    "\tputs(File.extname(fn))\n",
    "\tputs(File.mtime(fn))\n",
    "\t# Que lindo queda\n",
    "\tputs \"El archivo es writable?: #{if File.writable?(fn) then \"Si\" else \"No\" end}\"\n",
    "\tputs(\"#{File.size(fn)} bytes\")\n",
    "else\n",
    "\tputs( \"No hay file!\")\n",
    "end"
   ]
  },
  {
   "cell_type": "markdown",
   "metadata": {},
   "source": [
    "#### *Los ``Class Methods`` de Ruby son el equivalente a los llamados ``Static Methods`` en otros lenguajes*\n",
    "\n",
    "#### Son una forma de aglomerar varios métodos sin necesidad de siquiera crear un objeto para usarlos, siempre usando ``self``"
   ]
  },
  {
   "attachments": {
    "image-3.png": {
     "image/png": "[encoded data removed]"
    },
    "image.png": {
     "image/png": "[encoded data removed]"
    }
   },
   "cell_type": "markdown",
   "metadata": {},
   "source": [
    "|<div style=\"width:350px; padding:20px;\">En Ruby, incluso las Clases son Objetos, de la misma forma que un papel que describe objetos en el mundo real, es en sí mismo un objeto: El objeto \"Papel\"</div>|<div style=\"height:400px; width: 650px;\">![image.png](attachment:image.png)</div>|\n",
    "|:---|:---:|\n",
    "|<div style=\"width:350px; padding:20px;\">Todas las clases son de hecho, instancias de la Clase ``Class``. <br/><br/>``.new`` es un método de la Clase ``Class``</div>|<div style=\"height:400px; width: 650px;\">![image-3.png](attachment:image-3.png)</div>|"
   ]
  },
  {
   "cell_type": "markdown",
   "metadata": {},
   "source": [
    "### Las clases de la Clase"
   ]
  },
  {
   "cell_type": "code",
   "execution_count": 14,
   "metadata": {},
   "outputs": [],
   "source": [
    "# The Book of Ruby - http://www.sapphiresteel.com\n",
    "\n",
    "class MyClass\n",
    "end\n",
    "\n",
    "puts \"Todas estas pertenecen a la clase \\\"CLASE\\\"\"\n",
    "puts( MyClass.class )\n",
    "puts( String.class )\n",
    "puts( Object.class )\n",
    "puts( Class.class )\n",
    "puts( IO.class )\n",
    "\n",
    "p( IO.singleton_methods )"
   ]
  },
  {
   "cell_type": "markdown",
   "metadata": {},
   "source": [
    "### Variables de clase\n",
    "\n",
    "Son compartidas entre todos los objetos de la clase que las contiene"
   ]
  },
  {
   "cell_type": "code",
   "execution_count": 15,
   "metadata": {},
   "outputs": [],
   "source": [
    "class Thing\n",
    "    @@class_variable = \"Hola\"\n",
    "end"
   ]
  },
  {
   "cell_type": "markdown",
   "metadata": {},
   "source": [
    "### Variables de instancia\n",
    "\n",
    "Son diferentes para cada objeto creado"
   ]
  },
  {
   "cell_type": "code",
   "execution_count": 16,
   "metadata": {},
   "outputs": [],
   "source": [
    "class Woi\n",
    "    @instance_variable = \"Tilines\"\n",
    "end"
   ]
  },
  {
   "cell_type": "markdown",
   "metadata": {},
   "source": [
    "##### Ver más de esos ejemplos en el archivo ``2adventure.rb`` del CAPÍTULO 2"
   ]
  },
  {
   "cell_type": "code",
   "execution_count": 4,
   "metadata": {},
   "outputs": [
    {
     "name": "stdout",
     "output_type": "stream",
     "text": [
      "There are 3 Thing objects in this game\n",
      "There are 3 Thing objects in this game\n",
      "There are 3 Thing objects in this game\n"
     ]
    }
   ],
   "source": [
    "# Código sólo con fines de ejemplo\n",
    "# \n",
    "# Thing está hasta arriba en la escala de los genérico, de el, descienden los otros objetos por medio de la herencia\n",
    "class Thing\n",
    "  @@num_things = 0 # class variable\n",
    " \n",
    " attr_reader( :name, :description )\n",
    " attr_writer( :description )\n",
    " \n",
    " def initialize( aName, aDescription )\n",
    "   @name         = aName\n",
    "   @description  = aDescription\n",
    "   @@num_things +=1  # increment @@num_things\n",
    " end\n",
    " \n",
    " def to_s # override default to_s method\n",
    "   return \"(Thing.to_s):: The #{@name} Thing is #{@description}\"\n",
    " end\n",
    " \n",
    " def show_classvars\n",
    "   return \"There are #{@@num_things} Thing objects in this game\"\n",
    " end\n",
    " \n",
    "end\n",
    "\n",
    "# Se puede comprobar aquí el funcionamiento de la clase Thing\n",
    "t1 = Thing.new(\"Thing 1\", \"Useless thing\")\n",
    "t2 = Thing.new(\"Thing 2\", \"Useful thing\")\n",
    "t3 = Thing.new(\"Thing 3\", \"Neutral thing\")\n",
    "\n",
    "puts t1.show_classvars\n",
    "puts t2.show_classvars\n",
    "puts t3.show_classvars"
   ]
  },
  {
   "cell_type": "markdown",
   "metadata": {},
   "source": [
    "> En el código de arriba, cada vez que se cree un objeto ``Thing`` o un descendiente de este, se añadirá +1 a la variable de clase. Como esta es global a todos los objetos, sirve como **ID para cada instancia creada**, sin importar donde y como"
   ]
  },
  {
   "cell_type": "markdown",
   "metadata": {},
   "source": [
    "### Como trabajan las variables de instancia"
   ]
  },
  {
   "cell_type": "markdown",
   "metadata": {},
   "source": [
    "Los dos @instvar, cada uno en un bloque separado, son el mismo?"
   ]
  },
  {
   "cell_type": "code",
   "execution_count": 18,
   "metadata": {},
   "outputs": [],
   "source": [
    "# The Book of Ruby - http://www.sapphiresteel.com\n",
    "\n",
    "class MyClass\n",
    "\t@@classvar = 1000\n",
    "\t@instvar = 1000\n",
    "\t\n",
    "  # Esto es una cosa rara y poco ortodoxa pero posible\n",
    "\tdef MyClass.classMethod\n",
    "\t\tif @instvar == nil then\n",
    "\t\t\t@instvar = 10\n",
    "\t\telse\n",
    "\t\t\t@instvar += 10\n",
    "\t\tend\n",
    "\tend\n",
    "\t\n",
    "  # Este ese el way to go donde cada variable de instancia está autocontenida\n",
    "\tdef instanceMethod\n",
    "\t\tif @instvar == nil then\n",
    "\t\t\t@instvar = 1\n",
    "\t\telse\n",
    "\t\t\t@instvar += 1\n",
    "\t\tend\t\t\t\t\n",
    "\tend\t\t\n",
    "\t\n",
    "end\n",
    "\n",
    "\n",
    "\n",
    "ob = MyClass.new\n",
    "puts MyClass.instance_variable_get(:@instvar) # Metodo para extraer las variables de instancia de dentro que chori\n",
    "puts( '--------------' )\n",
    "for i in 0..2 do\n",
    "  MyClass.classMethod\n",
    "\tob.instanceMethod\n",
    "\tputs( \"MyClass @instvar= #{MyClass.instance_variable_get(:@instvar)}\" )\n",
    "\tputs( \"ob @instvar= #{ob.instance_variable_get(:@instvar)}\" )\n",
    "end"
   ]
  },
  {
   "cell_type": "markdown",
   "metadata": {},
   "source": [
    "> Cada una, ``.classmethod`` y ``.instancemethod`` actualiza su metodo propio, no se pisan"
   ]
  },
  {
   "cell_type": "markdown",
   "metadata": {},
   "source": [
    "### Codigo ejemplificador\n",
    "\n",
    "Aquí se están testeando los permisos de acceso que tiene cada tipo de variable"
   ]
  },
  {
   "cell_type": "code",
   "execution_count": 19,
   "metadata": {},
   "outputs": [],
   "source": [
    "class MyClass\n",
    "  @@class_variable = 1\n",
    "  @instance_variable_of_class = 100\n",
    "  \n",
    "  def initialize\n",
    "    @instance_var = 5000\n",
    "  end\n",
    "\n",
    "  def aMethod\n",
    "    p @@class_variable # Accedida sin problemas\n",
    "    p @instance_var # Accedida por medio de la instancia de \"obj\"\n",
    "    p @instance_variable_of_class #El objeto \"obj\" no puede acceder a la variable de instancia del objeto \"MyClass\"\n",
    "  end\n",
    "\n",
    "  def MyClass.aClassMethod\n",
    "    p @@class_variable # Accedida sin problemas\n",
    "    p @instance_var # Estamos en un metodo self, se considera a la clase como otro objeto más, la variable de instancia de \"obj\" no puede accederse desde otro objeto (MyClass)\n",
    "    p @instance_variable_of_class # Dado que estamos en un metodo self, el objeto \"MyClass\" si puede acceder a sus propias variables de instancia\n",
    "  end\n",
    "end\n",
    "\n",
    "obj = MyClass.new\n",
    "puts \"---obj.aMethod---\"\n",
    "obj.aMethod\n",
    "puts \"---MyClass.aClassMethod---\"\n",
    "MyClass.aClassMethod"
   ]
  },
  {
   "cell_type": "markdown",
   "metadata": {},
   "source": [
    "> Creo que por aquí va el encapsulamiento..."
   ]
  },
  {
   "cell_type": "markdown",
   "metadata": {},
   "source": [
    "### Singleton methods"
   ]
  },
  {
   "cell_type": "code",
   "execution_count": 20,
   "metadata": {},
   "outputs": [],
   "source": [
    "# The Book of Ruby - http://www.sapphiresteel.com\n",
    "\n",
    "FULLMOON = true #<= try changing this to false\n",
    "\n",
    "# Tenemos la clase creatura\n",
    "class Creature\t\n",
    "\tdef initialize( aSpeech )\n",
    "\t\t@speech = aSpeech\n",
    "\tend\n",
    "\t\n",
    "\tdef talk\n",
    "\t\tputs( @speech )\n",
    "\tend\n",
    "end\n",
    "\n",
    "# Creamos todas sus instancias pero queremos que una haga como lobo solo cuando un cierto valor es true\n",
    "# Poner algo especifico en la clase general creatura sería extraño\n",
    "cat = Creature.new( \"miaow\" )\n",
    "dog = Creature.new( \"woof\" )\n",
    "budgie = Creature.new( \"Who's a pretty boy, then!\" )\n",
    "werewolf = Creature.new( \"growl\" ) # El speech regular que proporciona creatura, ya personalizado pero no es suficiente\n",
    "\n",
    "# Creamos el método solo para el objeto del hombre lobo\n",
    "def werewolf.howl\n",
    "\tif FULLMOON then\n",
    "\t\tputs( \"How-oo-oo-oo-oo!\" )\n",
    "\telse\n",
    "\t\ttalk\n",
    "\tend\n",
    "end\n",
    "\n",
    "# Lo invocamos\n",
    "werewolf.howl\n",
    "#\t\t\t\tYou can try out these...\n",
    "# werewolf.talk\n",
    "# budgie.talk\n",
    "#\t\t\t\tBut...\n",
    "# budgie.howl\t#<= this won't work!\n"
   ]
  },
  {
   "cell_type": "markdown",
   "metadata": {},
   "source": [
    "*Una manera de evaluar si un singleton method existe es así:*"
   ]
  },
  {
   "cell_type": "code",
   "execution_count": 21,
   "metadata": {},
   "outputs": [],
   "source": [
    "if item.singleton_methods.include?(:congratulate) then\n",
    "  item.congratulate\n",
    "end\t\t"
   ]
  },
  {
   "cell_type": "markdown",
   "metadata": {},
   "source": [
    "### Creación de singleton clases y singleton methods\n",
    "\n",
    "*Una genial forma de añadir metodos unicos a instancias de clases*"
   ]
  },
  {
   "cell_type": "code",
   "execution_count": 22,
   "metadata": {},
   "outputs": [],
   "source": [
    "# The Book of Ruby - http://www.sapphiresteel.com\n",
    "\n",
    "ob = Object.new\n",
    "\n",
    "# Clase singleton:\n",
    "# Crea una clase sin nombre y le añade su comportamiento a la instancia del objeto apuntado\n",
    "# Todos los métodos apuntados dentro se añadirán a la clase destino solo en esta instancia\n",
    "class << ob\n",
    "\tdef blather( aStr )\n",
    "\t\tputs(\"blather, blather #{aStr}\")\n",
    "\tend\n",
    "end\n",
    "\n",
    "\n",
    "# ob has all the usual Object methods\n",
    "# puts( ob.inspect )\n",
    "# puts( ob.class )\n",
    "\n",
    "ob.blather( \"weeble\" )\n",
    "\n",
    "ob2 = Object.new\n",
    "\n",
    "# Metodo singleton:\n",
    "# Es la forma de escribir nuevos métodos para un objeto existente, añandiendolos a los de su clase sono en esta instancia\n",
    "def ob2.blather( aStr )\n",
    "\tputs( \"grippity, grippity #{aStr}\" )\n",
    "end\n",
    "\n",
    "ob2.blather( \"ping!\" )"
   ]
  },
  {
   "cell_type": "markdown",
   "metadata": {},
   "source": [
    "# Section 3: Arguments, return values and encapsulation 🔒"
   ]
  },
  {
   "cell_type": "markdown",
   "metadata": {},
   "source": [
    "## 1️⃣6️⃣ de Abril"
   ]
  },
  {
   "cell_type": "markdown",
   "metadata": {},
   "source": [
    "##### Ruby tiene muchos trucos y salidas a la hora de pasar argumentos y retornar resultados, esto puede ser peligroso y confuso\n",
    "\n",
    "Esta es una declaración simple donde tal asunto no tiene importancia y se comporta siempre igual"
   ]
  },
  {
   "cell_type": "code",
   "execution_count": 23,
   "metadata": {},
   "outputs": [],
   "source": [
    "# Metodo sin argumentos\n",
    "def m1\n",
    "  puts \"Hola tilines\"\n",
    "end\n",
    "\n",
    "# Metodos con uno o mas argumentos\n",
    "def m2(arg)\n",
    "  puts arg\n",
    "end\n",
    "\n",
    "def m3(arg, other_arg)\n",
    "    puts arg\n",
    "    puts other_arg\n",
    "end\n",
    "\n",
    "# Envolver la lista con parentesis es opcional\n",
    "def m4 arg, other_arg\n",
    "    puts arg\n",
    "    puts other_arg\n",
    "end\n",
    "\n",
    "# Lista de ejecución\n",
    "m1\n",
    "m1()\n",
    "puts \"...........................................\"\n",
    "m2 \"Hola desde m2\"\n",
    "m2(\"Adios desde m2 con parentesis\")\n",
    "puts \"...........................................\"\n",
    "m3 \"Hola\", \"Bienvenido a m3 sin parentesis\"\n",
    "m3(\"Buenos dias\", \"Desde m3 con parentesis\")\n",
    "puts \"...........................................\"\n",
    "m4(\"Buenos dias\", \"Desde m4 con parentesis\")\n",
    "m4 \"Esto es m4\", \"Sin parentesis\" "
   ]
  },
  {
   "cell_type": "markdown",
   "metadata": {},
   "source": [
    "> ##### Incluso aunque se pueda vivir sin ellos, prefiero usar los paréntesis en Ruby para hacer más claro y explícito el código"
   ]
  },
  {
   "cell_type": "markdown",
   "metadata": {},
   "source": [
    "### Más ejemplos donde ahora si importa\n",
    "\n",
    "Todos los métodos retornan un valor, si no lo hacen explícitamente entonces el último valor del método es el que se retorna"
   ]
  },
  {
   "cell_type": "code",
   "execution_count": 24,
   "metadata": {},
   "outputs": [],
   "source": [
    "# The Book of Ruby - http://www.sapphiresteel.com\n",
    "\n",
    "def method1\n",
    "\ta = 1\n",
    "\tb = 2\n",
    "\tc = a + b\n",
    "end\n",
    "\n",
    "def method2\n",
    "\ta = 1\n",
    "\tb = 2\n",
    "\tc = a + b\n",
    "\treturn b\n",
    "end\n",
    "\n",
    "def method3\n",
    "\t\"hello\"\n",
    "end\n",
    "\n",
    "def method4\n",
    "\treturn a = 1 + 2 # Lo explicitado siempre se devuelve incluso si hay más cosas debajo\n",
    "\t\"goodbye\" # Si aqui pusíeramos un puts, como es una orden y no un valor, la función retornaría nil\n",
    "end\n",
    "\n",
    "def method5\n",
    "end\n",
    "\n",
    "p( method1 )\n",
    "p( method2 )\n",
    "p( method3 )\n",
    "p( method4 )\n",
    "p( method5 )"
   ]
  },
  {
   "cell_type": "markdown",
   "metadata": {},
   "source": [
    "> #### Por un tema de claridad es mejor dejar los returns hasta el final"
   ]
  },
  {
   "cell_type": "markdown",
   "metadata": {},
   "source": [
    "### Ejemplo de como los paréntesis clarifican el código y lo intencionan 👀"
   ]
  },
  {
   "cell_type": "code",
   "execution_count": 25,
   "metadata": {},
   "outputs": [],
   "source": [
    "# The Book of Ruby - http://www.sapphiresteel.com\n",
    "# parentheses avoid ambiguity...\n",
    "\n",
    "greet = \"Hello\"\n",
    "name = \"Fred\"\n",
    "\n",
    "def greet\n",
    "\treturn \"Good morning\"\n",
    "end\n",
    "\n",
    "def name\n",
    "\treturn \"Mary\"\n",
    "end\n",
    "\n",
    "def sayHi( aName )\n",
    "\treturn \"Hi, #{aName}\"\n",
    "end\n",
    "\n",
    "puts( greet ) #Imprime la VARIABLE greet\n",
    "puts greet #Imprime la VARIABLE greet\n",
    "puts greet() #Llama al MÉTODO greet\n",
    "puts( sayHi( name ) ) #Llama al método usando la VARIABLE como argumento\n",
    "puts( sayHi( name() ) ) #Llama al método usando el MÉTODO como argumento"
   ]
  },
  {
   "cell_type": "markdown",
   "metadata": {},
   "source": [
    "> #### *Si no hay paréntesis*, el primer impulso del programa será pensar que es una ``variable``, si encuentra una variable con ese nombre ``la usará de forma prevalente`` aunque un método se llame igual 🤯"
   ]
  },
  {
   "cell_type": "markdown",
   "metadata": {},
   "source": [
    "### Otro ejemplo más de lo mismo para que quede claro 🀄"
   ]
  },
  {
   "cell_type": "code",
   "execution_count": 26,
   "metadata": {},
   "outputs": [],
   "source": [
    "# The Book of Ruby - http://www.sapphiresteel.com\n",
    "\n",
    "def ret_things\n",
    "\tgreeting = \"Hello world\"\n",
    "\ta = 1\n",
    "\tb = 2.0\n",
    "\treturn a, b, 3, \"four\", greeting, 6 * 10 # Si se retorna una lista separada por comas, será convertida a ARRAY\n",
    "end\n",
    "\n",
    "def ret_arr\n",
    "\ta = 1\n",
    "\tb = 2\n",
    "\tc = \"hello world\"\n",
    "\td = [a,b,c]\n",
    "\te = [a,b,c,d] # Se puede retornar un ARRAY con todo lo necesario\n",
    "\treturn e\n",
    "end\n",
    "\n",
    "def ret_hash\n",
    "  a = 1\n",
    "  b = 2000\n",
    "  c = \"Hola tilines que hago en un hash auxilio\"\n",
    "\treturn {'a'=>a, 'b'=>b, 'c'=>c} # Se puede retornar un hash con todo lo necesario y sus claves\n",
    "end\n",
    "\n",
    "p( ret_things )\n",
    "p( ret_arr )\n",
    "p( ret_hash )\n",
    "\n",
    "mythings = ret_things\n",
    "a = ret_things[0]\n",
    "e = ret_things[4]\n",
    "\n",
    "puts( \"mythings=#{mythings}\" )\n",
    "puts( \"a=#{a} and e=#{e}\" )\n",
    "b, c, d = ret_things[1..3]\n",
    "puts( \"b=#{b}, c=#{c}, d=#{d}\" )\n",
    "\n",
    "print( \"ret_things returns: \",  ret_things.class )"
   ]
  },
  {
   "cell_type": "markdown",
   "metadata": {},
   "source": [
    "### Acuerdensen de comprar el libro de Ruby"
   ]
  },
  {
   "cell_type": "markdown",
   "metadata": {},
   "source": [
    "Somos libres de añadir asignaciones ``default`` dentro de las mismas declaraciones de los métodos"
   ]
  },
  {
   "cell_type": "code",
   "execution_count": 27,
   "metadata": {},
   "outputs": [],
   "source": [
    "# The Book of Ruby - http://www.sapphiresteel.com\n",
    "\n",
    "def aMethod( a=10, b=20, c=100, *d ) # !!!!!!!\n",
    "\treturn a, b, c, d\n",
    "end\n",
    "\n",
    "def anotherMethod( greeting=\"Hello\", name=\"friend\" )\n",
    "\treturn \"#{greeting}, #{name}\"\n",
    "end\n",
    "\n",
    "p( aMethod )\n",
    "p( aMethod( 1,2 ) )\n",
    "p( aMethod( 1,2,3 ) )\n",
    "p( aMethod( 1,2,3,4,6,6,3,4,5,6,67,7,8, \"Hola tilines que clase de lenguaje te permite esto???????\" ) ) # El *d indica que, se guardará dentro de \"d\", cualquier argumento que exceda en forma de ARRAY\n",
    "p( anotherMethod )\n",
    "p( anotherMethod( \"Goodye\" ) )\n",
    "p( anotherMethod( \"Toodlepip!\",\"Bertie\" ) )"
   ]
  },
  {
   "cell_type": "markdown",
   "metadata": {},
   "source": [
    "### Ejemplos de ``asignación en paralelo``"
   ]
  },
  {
   "cell_type": "markdown",
   "metadata": {},
   "source": [
    "A mi me gustan mucho de estas"
   ]
  },
  {
   "cell_type": "code",
   "execution_count": 28,
   "metadata": {},
   "outputs": [],
   "source": [
    "# The Book of Ruby - http://www.sapphiresteel.com\n",
    "# parallel assignment\n",
    "\n",
    "\n",
    "# assign multiple values to multiple variables\n",
    "s1, s2, s3 = \"Hickory\", \"Dickory\", \"Dock\"\n",
    "puts( s1 )\n",
    "puts( s2 )\n",
    "puts( s3 )\n",
    "\t\n",
    "# simple variable assignment used to transpose values of 2 variables\n",
    "i1 = 1\n",
    "i2 = 2\n",
    "\n",
    "i1, i2 = i2, i1\n",
    "\n",
    "puts( \"i1=#{i1}, i2=#{i2}\" )\n",
    "\n",
    "\n",
    "# assign values from an array to several variables\n",
    "s1, s2, *s3 = [\"Ding\", \"Dong\", \"Bell\", \"Josh\"] #Cada variable recibe un elemento del array en orden\n",
    "puts( \"A ver que onda sale de aca: #{s1}\" )\n",
    "puts( \"A ver que onda sale de aca: #{s2}\" )\n",
    "puts( \"A ver que onda sale de aca: #{s3}\" )\n",
    "# La captura de los elementos en un array con *var sigue funcionando\n",
    "\n",
    "\n",
    "# return multiple values from a method...\n",
    "def returnArray( a, b, c )\n",
    "\ta = \"Hello, \" + a\n",
    "\tb = \"Hi, \" + b\n",
    "\tc = \"Good day, \" + c\n",
    "\treturn a, b, c\n",
    "end\n",
    "\n",
    "#...and assign those values to variables\n",
    "x, y, z, extravar = returnArray( \"Fred\", \"Bert\", \"Mary\" )\n",
    "puts( x )\n",
    "puts( y )\n",
    "puts( z )\n",
    "p( extravar ) # an 'extra' (unmatched) variables are assigned nil\n",
    "\n",
    "# This shows that multiple values returned from a method are placed in an array\n",
    "p( returnArray( \"Fred\", \"Bert\", \"Mary\" ) )"
   ]
  },
  {
   "cell_type": "markdown",
   "metadata": {},
   "source": [
    "### La encapsulación 💊"
   ]
  },
  {
   "attachments": {
    "image-2.png": {
     "image/png": "[encoded data removed]"
    },
    "image.png": {
     "image/png": "[encoded data removed]"
    }
   },
   "cell_type": "markdown",
   "metadata": {},
   "source": [
    "|<div style=\"width:350px; padding:20px;\">En los lenguajes orientados a objetos, las variables, y las funciones y todo, está ``encapsulado`` dentro del propio objeto, otros objetos no pueden modificarlo ni verlo</div>|<div style=\"height:400px; width: 650px;\">![image.png](attachment:image.png)</div>|\n",
    "|:---|:---:|\n",
    "|<div style=\"width:350px; padding:20px;\">El método sólo debería exponer sus datos ``necesarios``, lo demás debería mantenerse en el ámbito privado. Para acceder a variables del ``ámbito privado``, se hace a través de métodos en el ámbito ``público``</div>|<div style=\"height:400px; width: 650px;\">![image-2.png](attachment:image-2.png)</div>|"
   ]
  },
  {
   "cell_type": "markdown",
   "metadata": {},
   "source": [
    "> #### El código de un método, sólo debería ser problema y asunto de quien lo escribió"
   ]
  },
  {
   "cell_type": "markdown",
   "metadata": {},
   "source": [
    "##### Ruby es al parecer más seguro a la hora de encapsular que otros lenguajes de propósito general"
   ]
  },
  {
   "cell_type": "code",
   "execution_count": 29,
   "metadata": {},
   "outputs": [],
   "source": [
    "class X\n",
    "  def initialize\n",
    "    return @xyz = 500\n",
    "  end\n",
    "\n",
    "  def xyz\n",
    "    if @xyz < 0 then\n",
    "      returnval = 0\n",
    "    else\n",
    "      returnval = @xyz\n",
    "    end\n",
    "    return returnval\n",
    "  end\n",
    "end\n",
    "\n",
    "obj = X.new\n",
    "\n",
    "# p obj.@xyz #Esto no se puede, acceder directamente a las variables como que onda\n",
    "puts obj.xyz()"
   ]
  },
  {
   "cell_type": "markdown",
   "metadata": {},
   "source": [
    "#### Por norma general, si una variable pasa como argumento dentro de un metodo, esta no cambiará, solo se usará como una instancia de si misma para que el metodo pueda trabajar con ella"
   ]
  },
  {
   "cell_type": "code",
   "execution_count": 30,
   "metadata": {},
   "outputs": [],
   "source": [
    "myVar = 20\n",
    "\n",
    "def plusTwen(num)\n",
    "  num += 20\n",
    "  return num\n",
    "end\n",
    "\n",
    "puts(plusTwen(myVar)) # El resultado es 40\n",
    "puts(myVar) # Pero esto no afecta la variable que entró, el resultado sigue siendo 20"
   ]
  },
  {
   "cell_type": "markdown",
   "metadata": {},
   "source": [
    "#### Excepciones"
   ]
  },
  {
   "cell_type": "code",
   "execution_count": 31,
   "metadata": {},
   "outputs": [],
   "source": [
    "# The Book of Ruby - http://www.sapphiresteel.com\n",
    "\n",
    "str1 = \"Metodo 1\"\n",
    "puts( str1.object_id )\n",
    "puts str1.reverse # Reverse normal, no cambia el objeto, ni su ID, solo opera sobre el\n",
    "puts( str1 )\n",
    "puts( str1.object_id )\n",
    "puts\n",
    "\n",
    "str1 = \"Metodo 2\"\n",
    "puts( str1.object_id )\n",
    "puts str1.reverse! # Reverse con exclamación, altera el objeto, pero sigue siendo el mismo, su ID no cambia\n",
    "puts( str1 )\n",
    "puts( str1.object_id )\n",
    "puts\n",
    "\n",
    "str1 = \"Metodo 3\"\n",
    "puts( str1.object_id )\n",
    "puts str1 = str1.reverse # Reasignacion de nuevo objeto a la variable, a pesar de llamarse igual, es un objeto distinto como prueba su ID\n",
    "puts( str1 )\n",
    "puts( str1.object_id )"
   ]
  },
  {
   "cell_type": "markdown",
   "metadata": {},
   "source": [
    "#### Que estas formas de alterar las variables tras su uso es importante por lo siguiente"
   ]
  },
  {
   "cell_type": "code",
   "execution_count": 32,
   "metadata": {},
   "outputs": [],
   "source": [
    "# The Book of Ruby - http://www.sapphiresteel.com\n",
    "\n",
    "def stringProcess( aStr, anotherStr )\n",
    "\taStr.capitalize!\n",
    "\tanotherStr.reverse!.capitalize!\t\n",
    "\taStr = aStr +  \" \" + anotherStr.reverse!\n",
    "\treturn aStr\n",
    "end\n",
    "\n",
    "def stringProcess2( aStr, anotherStr )\n",
    "\tmyStr = aStr.capitalize!\n",
    "\tanotherStr.reverse!.capitalize!\t\n",
    "\tmyStr = myStr + \" \" + anotherStr.reverse\n",
    "\treturn myStr\n",
    "end\n",
    "\n",
    "str1 = \"hello\"\n",
    "str2 = \"world\"\n",
    "str3 = stringProcess( str1, str2 )\n",
    "puts( \"Return value is  #{str3}\" )\n",
    "puts( \"Value of args is #{str1} #{str2}\" )\n",
    "puts\n",
    "\n",
    "str1 = \"hello\"\n",
    "str2 = \"world\"\n",
    "str3 = stringProcess2( str1, str2 )\n",
    "puts( \"Return value is  #{str3}\" )\n",
    "puts( \"Value of args is #{str1} #{str2}\" )"
   ]
  },
  {
   "cell_type": "markdown",
   "metadata": {},
   "source": [
    "> Es siempre preferente y debe intencionarse así, que los programadores no puedan usar los argumentos alterados por el método dentro, sino que esté todo contenido en el método, que no hayan cambios hacia afuera que puedan usarse y producir resultados inesperados... "
   ]
  },
  {
   "cell_type": "markdown",
   "metadata": {},
   "source": [
    "> Al respecto, revisar ``Capítulo 8`` para tener referncias claras de estos casos y el cómo Ruby se comporta"
   ]
  },
  {
   "attachments": {
    "image.png": {
     "image/png": "[encoded data removed]"
    }
   },
   "cell_type": "markdown",
   "metadata": {},
   "source": [
    "### 🍂 Nunca olvidar 🍂\n",
    "\n",
    "![image.png](attachment:image.png)"
   ]
  },
  {
   "cell_type": "markdown",
   "metadata": {},
   "source": [
    "# Section 4: Exception Handling ✋🐱🤚"
   ]
  },
  {
   "cell_type": "markdown",
   "metadata": {},
   "source": [
    "## 1️⃣7️⃣ de Abril"
   ]
  },
  {
   "cell_type": "markdown",
   "metadata": {},
   "source": [
    "#### La recuperación de errores puede llevarse de la siguiente manera:"
   ]
  },
  {
   "cell_type": "code",
   "execution_count": 33,
   "metadata": {},
   "outputs": [],
   "source": [
    "begin\n",
    "  # El codigo que puede causar la excepción\n",
    "rescue\n",
    "  # Codigo para recuperarse de la excepción\n",
    "end"
   ]
  },
  {
   "cell_type": "markdown",
   "metadata": {},
   "source": [
    "#### Un código garantizado de dar error: Dividir entre 0"
   ]
  },
  {
   "cell_type": "code",
   "execution_count": 34,
   "metadata": {},
   "outputs": [],
   "source": [
    "x = 1/0\n",
    "\n",
    "puts x"
   ]
  },
  {
   "cell_type": "markdown",
   "metadata": {},
   "source": [
    "#### Se envuelve en un manejador de excepciones de esta forma"
   ]
  },
  {
   "cell_type": "code",
   "execution_count": 35,
   "metadata": {},
   "outputs": [],
   "source": [
    "begin\n",
    "  x = 1/0\n",
    "rescue\n",
    "  x = 0\n",
    "  puts $!.class # Aqui revisamos el tipo del error\n",
    "  puts $! # Este es el texto del error en sí\n",
    "end\n",
    "\n",
    "puts x # Ahora tras que el error se haya solucionado, retorna 0!"
   ]
  },
  {
   "cell_type": "markdown",
   "metadata": {},
   "source": [
    "> ``$!`` es una clase global de Ruby que el lenguaje asigna a ``la última excepción ocurrida``."
   ]
  },
  {
   "cell_type": "markdown",
   "metadata": {},
   "source": [
    "#### Otro ejemplo para que quede mas claro"
   ]
  },
  {
   "cell_type": "code",
   "execution_count": 36,
   "metadata": {},
   "outputs": [],
   "source": [
    "# The Book of Ruby - http://www.sapphiresteel.com\n",
    "\n",
    "def calc( val1, val2 )\n",
    "\n",
    "  # El codigo a ser evaluado\n",
    "\tbegin\n",
    "\t\tresult = val1 / val2\n",
    "\n",
    "  #Bloque de manejo de errores específico para lidiar con errores de tipo de dato incompatible\n",
    "\trescue TypeError, NoMethodError => e # En lugar de usar \"$!\" se asignan los datos del error a la variable temporal \"e\", son equivalentes en este contexto.\n",
    "\t\tputs( e.class )\n",
    "\t\tputs( e )\n",
    "\t\tputs( \"One of the values is not a number!\" )\n",
    "\t\tresult = nil\n",
    "\n",
    "  #Bloque generico para lidiar con todos los otros tipos de errores, como la división por cero por ejemplo\n",
    "\trescue Exception => e\n",
    "\t\tputs( e.class )\n",
    "\t\tputs( e )\n",
    "\t\tresult = nil\n",
    "\tend\n",
    "\treturn result\n",
    "end\n",
    "\n",
    "calc( 20, 0 ) # Aqui actua el bloque generico\n",
    "puts\n",
    "calc( 20, \"100\" ) # Aqui actua TypeError\n",
    "puts\n",
    "calc( \"100\", 100 ) # Aqui actua TypeError"
   ]
  },
  {
   "cell_type": "markdown",
   "metadata": {},
   "source": [
    "#### Hay ocasiones en que querrás que una pieza de código se ejecute si o sí, ocurra un error o no.\n",
    "\n",
    "Para esto se usa el bloque ``ensure``"
   ]
  },
  {
   "cell_type": "code",
   "execution_count": 37,
   "metadata": {},
   "outputs": [],
   "source": [
    "# The Book of Ruby - http://www.sapphiresteel.com\n",
    "\n",
    "f = File.new( \"../notas-econtable-texto.txt\" )\n",
    "begin\n",
    "\tfor i in (1..6) do\n",
    "\t\tputs(\"line number: #{f.lineno}\")\n",
    "\t\tline = f.gets.chomp\n",
    "\t\tnum = line.to_i\n",
    "\t\tputs( \"Line '#{line}' is converted to #{num}\" )\n",
    "\t\tputs( 100 / num ) #Quitando esta linea el programa funciona bien, toma las primeras 6 lineas y las convierte a entero, dando 0\n",
    "\tend\n",
    "rescue Exception => e\n",
    "\tputs( e.class )\n",
    "\tputs( e )\n",
    "ensure\n",
    "\tf.close\n",
    "\tputs( \"File closed\" )\n",
    "end"
   ]
  },
  {
   "cell_type": "markdown",
   "metadata": {},
   "source": [
    "#### Opuesto a ``ensure``, está ``else``, que sólo actúa cuando la exepción no ocurre"
   ]
  },
  {
   "cell_type": "markdown",
   "metadata": {},
   "source": [
    "Si se coloca un número que no de error se mostrará el mensaje, el ensure mostrando tu input siempre ocurrirá"
   ]
  },
  {
   "cell_type": "code",
   "execution_count": 38,
   "metadata": {},
   "outputs": [],
   "source": [
    "# The Book of Ruby - http://www.sapphiresteel.com\n",
    "\n",
    "def doCalc( aNum )\n",
    "\tbegin\n",
    "\t\tresult = 100 / aNum.to_i\n",
    "\trescue Exception => e\t\t\n",
    "\t\tresult = 0\n",
    "\t\tmsg = \"Error: \" + e.to_s\n",
    "\telse\n",
    "\t\tmsg = \"Result = #{result}\"\n",
    "\tensure\n",
    "\t\tmsg = \"You entered '#{aNum}'. \" + msg\n",
    "\tend\n",
    "\treturn msg\n",
    "end\n",
    "\n",
    "print( \"Enter a number: \" )\n",
    "aNum = gets().chomp()\n",
    "puts( doCalc( aNum ) )"
   ]
  },
  {
   "cell_type": "markdown",
   "metadata": {},
   "source": [
    "#### El bloque ``retry`` dentro de la operación ``rescue``, dará un un nuevo intento al usuario si una excepción ha ocurrido."
   ]
  },
  {
   "cell_type": "code",
   "execution_count": 39,
   "metadata": {},
   "outputs": [],
   "source": [
    "# The Book of Ruby - http://www.sapphiresteel.com\n",
    "def doCalc\n",
    "\tbegin\n",
    "\t\tprint \"Ingresa un número: \"\n",
    "\t\taNum = gets.chomp\n",
    "\t\tresult = 100 / aNum.to_i\n",
    "\trescue Exception => e\n",
    "\t\tresult = 0\n",
    "\t\tputs \"Error: #{e.to_s}. Intenta de nuevo porfis.\"\n",
    "\t\tretry #Retry te da una oportunidad de hacerlo bien esta vez\n",
    "\telse\n",
    "\t\tmsg = \"Result = #{result}\"\n",
    "\tensure\n",
    "\t\tmsg = \"You entered '#{aNum}'. \" + msg\n",
    "\tend\n",
    "\treturn msg\n",
    "end\n",
    "\n",
    "puts doCalc()"
   ]
  },
  {
   "cell_type": "markdown",
   "metadata": {},
   "source": [
    "#### Habrá veces, en que se quiera capturar la excepción para poder manejarla con otro método, para eso se usa ``raise``."
   ]
  },
  {
   "cell_type": "code",
   "execution_count": 40,
   "metadata": {},
   "outputs": [],
   "source": [
    "# The Book of Ruby - http://www.sapphiresteel.com\n",
    "\n",
    "# El metodo manejador de errores\n",
    "def handleError( e )\n",
    "  puts \"Si puedes leer esto, es que una exepción fue capturada 🔥\"\n",
    "\tputs( \"Error of type: #{e.class}\" )\n",
    "\tputs( e )\n",
    "\tputs( \"Here is a backtrace: \" )\n",
    "\tputs( e.backtrace )\n",
    "  puts \"Si lees esto, el proceso se registró exitosamente ✨\"\n",
    "end\n",
    "\n",
    "# El metodo que dara el error\n",
    "def divbyzero\n",
    "\treturn 1 / 0\n",
    "end\n",
    "\n",
    "# La ejecución del programa\n",
    "begin\n",
    "\tdivbyzero() # <= Llama al método defectuoso\n",
    "rescue Exception => e # <= Se captura la excepción por primera vez en un rescue regular\n",
    "\tputs( \"A problem just occurred. Please wait...\" )\n",
    "\tbegin # <= Dentro del rescue se llama a un segundo proceso\n",
    "\t\traise # <= Para poder usar raise\n",
    "\trescue\n",
    "\t\thandleError( e ) # <= Y rescatar la exepción ya declarada para usarla como argumento en la función que maneja las exepciones, declarada fuera del código...\n",
    "\tend\n",
    "end"
   ]
  },
  {
   "cell_type": "markdown",
   "metadata": {},
   "source": [
    "> #### Debemos siempre pensar en maneras de proteger nuestro código de eventos que no podamos preveer ✨"
   ]
  },
  {
   "cell_type": "markdown",
   "metadata": {},
   "source": [
    "### Manejando la jerarquía de excepciones\n",
    "\n",
    "Podemos acceder a los ancestros de la clase del error el que estamos tratando"
   ]
  },
  {
   "cell_type": "code",
   "execution_count": 41,
   "metadata": {},
   "outputs": [],
   "source": [
    "# The Book of Ruby - http://www.sapphiresteel.com\n",
    "\n",
    "# Metodo para acceder a los ancestros de la clase de una excepción, si está vacio no hará nada\n",
    "# require 'debug'\n",
    "def showFamily( aClass )\n",
    "\tif (aClass != nil) then\t\n",
    "\t\tputs( \"#{aClass}\" )\t\t\t\n",
    "\t\tshowFamily( aClass.superclass ) #Muestra todos los ancestros hasta arriba\n",
    "\n",
    "\tend\n",
    "end\n",
    "\n",
    "\n",
    "begin\n",
    "\tx = 1/0\t\n",
    "rescue Exception => exc # Se llamaba \"e\" antes, como es una declaración puede llamarse como quieras\n",
    "\tx = 0\t\n",
    "\tputs( exc )\n",
    "\tputs( \"Family Tree of this exception...\" )\n",
    "  # binding.break\n",
    "\tshowFamily( exc.class )\n",
    "end"
   ]
  },
  {
   "cell_type": "markdown",
   "metadata": {},
   "source": [
    "> Gracias a que esta función es ``recursiva``, actuará una y otra vez hasta encontrarse con nil y detendrá su ejecución. Para enconces ya habrá mostrado ``toda la línea ancestral``.\n",
    "\n",
    "#### A la hora de especificar tipos de errores a capturar, hay que ir ``de lo particular a lo general``.\n",
    "\n",
    "> *Si se ponen en el orden contrario, entonces la exepción general se comerá todas las particulares y no se verán nunca, las específicas deben ir primero*"
   ]
  },
  {
   "cell_type": "markdown",
   "metadata": {},
   "source": [
    "#### Como aquí 🥶"
   ]
  },
  {
   "cell_type": "code",
   "execution_count": 42,
   "metadata": {},
   "outputs": [],
   "source": [
    "# The Book of Ruby - http://www.sapphiresteel.com\n",
    "\n",
    "# Error: the rescue clauses are in the wrong order!\n",
    "def calc( val1, val2 )\n",
    "\tbegin\n",
    "\t\tresult = val1 / val2\n",
    "\trescue Exception => e\n",
    "\t\tputs( e.class )\n",
    "\t\tresult = nil\t\t\n",
    "\trescue TypeError, NoMethodError => e\n",
    "\t\tputs( e.class )\n",
    "\t\tputs( e )\n",
    "\t\tputs( \"Oops! This message will never be displayed!\" )\n",
    "\t\tresult = nil\t\n",
    "\tend\n",
    "\treturn result\n",
    "end\n",
    "\n",
    "calc( 20, 0 )\n",
    "calc( 20, \"100\" )\n",
    "calc( \"100\", 100 )"
   ]
  },
  {
   "cell_type": "markdown",
   "metadata": {},
   "source": [
    "# Section 5: Blocks, Procs and Lambdas ☯️"
   ]
  },
  {
   "cell_type": "markdown",
   "metadata": {},
   "source": [
    "> #### Mientras que en otros lenguajes un bloque de codigo es una porción arbitraria de este; En Ruby es un término muy específico que se parece más al de las ``funciones anónimas`` en otros lenguajes"
   ]
  },
  {
   "cell_type": "markdown",
   "metadata": {},
   "source": [
    "##### Los bloques pueden de hecho formatearse bonito"
   ]
  },
  {
   "cell_type": "code",
   "execution_count": 62,
   "metadata": {},
   "outputs": [],
   "source": [
    "# Tal como está escrito, puede ser también un one liner. Las llaves suelen venir implícitas pero esto es lo que Ruby espera y entiende\n",
    "100.times{|u|\n",
    "  print \"Hola tilines #{u+1}, \"\n",
    "}"
   ]
  },
  {
   "cell_type": "markdown",
   "metadata": {},
   "source": [
    "##### Aquí como un verdadero ONE LINER"
   ]
  },
  {
   "cell_type": "code",
   "execution_count": 44,
   "metadata": {},
   "outputs": [],
   "source": [
    "100.times{ |u| print \"Hola tilines #{u+1}, \" }"
   ]
  },
  {
   "cell_type": "markdown",
   "metadata": {},
   "source": [
    "#### Otros famosos bloques"
   ]
  },
  {
   "cell_type": "code",
   "execution_count": 45,
   "metadata": {},
   "outputs": [],
   "source": [
    "(0..6).each {|i| puts i}"
   ]
  },
  {
   "cell_type": "code",
   "execution_count": 46,
   "metadata": {},
   "outputs": [],
   "source": [
    "# Creará una copia del array y le aplicará algo, en este caso se multiplica x2\n",
    "arr = [1,2,3,4,5,6,7,8,9,10]\n",
    "\n",
    "arr2 = arr.collect{ |x| x*2 } # Es una copia temporal, se puede guardar en una variable\n",
    "\n",
    "print arr\n",
    "puts\n",
    "print arr2"
   ]
  },
  {
   "cell_type": "markdown",
   "metadata": {},
   "source": [
    "#### Para sorpresa de nadie, las llaves de inicio y cierre ``{}``. Pueden reemplazarse con las palabras ``do`` y ``end``."
   ]
  },
  {
   "cell_type": "code",
   "execution_count": 47,
   "metadata": {},
   "outputs": [],
   "source": [
    "arr = [1,2,3,4,5,6,7,8,9,10]\n",
    "\n",
    "# Ruby es tan genial que esto mismo también serviría como un one liner\n",
    "arr2 = arr.collect do |x|\n",
    "  x*2\n",
    "end # Es una copia temporal, se puede guardar en una variable\n",
    "\n",
    "print arr\n",
    "puts\n",
    "print arr2"
   ]
  },
  {
   "cell_type": "markdown",
   "metadata": {},
   "source": [
    "> ### Leer el **capítulo 10** del Book of Ruby"
   ]
  },
  {
   "cell_type": "markdown",
   "metadata": {},
   "source": [
    "### Se pueden también asignar bloques de código a variables, como un ``Objeto`` de la Clase ``Proc``."
   ]
  },
  {
   "cell_type": "code",
   "execution_count": 48,
   "metadata": {},
   "outputs": [],
   "source": [
    "# The Book of Ruby - http://www.sapphiresteel.com\n",
    "\n",
    "# Las 3 formas crean objetos proc, funciones anónimas que ahora solo lo que está en el bloque\n",
    "a = Proc.new{|x| x = x*10; puts(x) }\n",
    "b = lambda{|x| x = x*10; puts(x) }\n",
    "c = proc{|x| x.capitalize! } \n",
    "\n",
    "puts( a.class )\n",
    "puts( b.class )\n",
    "puts( c.class )"
   ]
  },
  {
   "cell_type": "markdown",
   "metadata": {},
   "source": [
    "### Pueden usarse así"
   ]
  },
  {
   "cell_type": "markdown",
   "metadata": {},
   "source": [
    "> Para llamar un Proc se usa ``.call()`` para ejecutar y darle argumentos al bloque de codigo.\n",
    "\n",
    "> Un procedimiento similar se sigue con el metodo (NO CLASE) ``proc`` y con ``lambda``"
   ]
  },
  {
   "cell_type": "code",
   "execution_count": 49,
   "metadata": {},
   "outputs": [],
   "source": [
    "# The Book of Ruby - http://www.sapphiresteel.com\n",
    "\n",
    "puts( '--- Proc.new ---' )\n",
    "a = Proc.new{|x| x = x*10; puts(x) }\n",
    "a.call(100)\n",
    "\n",
    "puts('----Block #1---' )\n",
    "b = lambda{|x| x = x*10; puts(x) }\n",
    "b.call(100)\n",
    "\n",
    "puts('---Block #2---' )\n",
    "c = proc{|x| x.capitalize! }      \n",
    "c1 = c.call( \"hola tilines\" )\n",
    "puts( c1 )\n",
    "\n",
    "puts('---Block #3---' )\n",
    "d = lambda{|x| x.capitalize! }      \n",
    "d1 = [\"hello\",\"good day\",\"how do you do\"].each{ |s| d.call(s)}\n",
    "puts(d1.inspect)"
   ]
  },
  {
   "cell_type": "markdown",
   "metadata": {},
   "source": [
    "> Investigar sobre las diferencias entre Proc y Lambda"
   ]
  },
  {
   "cell_type": "markdown",
   "metadata": {},
   "source": [
    "### Un concepto tricky es el closure"
   ]
  },
  {
   "cell_type": "code",
   "execution_count": 50,
   "metadata": {},
   "outputs": [],
   "source": [
    "# The Book of Ruby - http://www.sapphiresteel.com\n",
    "\n",
    "x = \"HOLA TILINES\"\n",
    "\n",
    "ablock = Proc.new { puts( x ) }\n",
    "\n",
    "def aMethod( aBlockArg )\n",
    "\tx = \"goodbye\"\n",
    "\taBlockArg.call\n",
    "end\n",
    "\n",
    "puts( x ) # Llama a x desde el scope principal\n",
    "ablock.call # Llama al Proc ablock que contiene el valor de x desde el scope principal\n",
    "aMethod( ablock ) # *1\n",
    "ablock.call # Llama al Proc ablock que contiene el valor de x desde el scope principal, su anterior llamado no lo afecta\n",
    "puts( x ) # Tampoco es afectado nunca el x en el scope principal\n",
    "# El x dentro del metodo no se usa nunca"
   ]
  },
  {
   "cell_type": "markdown",
   "metadata": {},
   "source": [
    "> *1: Ablock contiene a x del scope principal, ese es que se trae adentro del metodo, porque está en el mismo scope donde este existe, no le importa lo que haya en la función, sino lo que tiene más cerca"
   ]
  },
  {
   "cell_type": "markdown",
   "metadata": {},
   "source": [
    "### Aqui se puede ver como al poner un proc identico ahora si declarado en su scope, la variable x de dentro del método es usada"
   ]
  },
  {
   "cell_type": "code",
   "execution_count": 51,
   "metadata": {},
   "outputs": [],
   "source": [
    "# The Book of Ruby - http://www.sapphiresteel.com\n",
    "\n",
    "x = \"HOLA TILINES\"\n",
    "\n",
    "ablock = Proc.new { puts( x ) }\n",
    "\n",
    "def aMethod( aBlockArg )\n",
    "\tx = \"CHAO\"\n",
    "  ablock = Proc.new { puts( x ) }\n",
    "\tablock.call\n",
    "end\n",
    "\n",
    "puts( x ) # Llama a x desde el scope principal\n",
    "ablock.call # Llama al Proc ablock que contiene el valor de x desde el scope principal\n",
    "aMethod( ablock ) # *1\n",
    "ablock.call # Llama al Proc ablock que contiene el valor de x desde el scope principal, su anterior llamado no lo afecta\n",
    "puts( x )"
   ]
  },
  {
   "cell_type": "markdown",
   "metadata": {},
   "source": [
    "### Los bloques se usan principalmente como iteradores"
   ]
  },
  {
   "cell_type": "code",
   "execution_count": 52,
   "metadata": {},
   "outputs": [],
   "source": [
    "# The Book of Ruby - http://www.sapphiresteel.com\n",
    "\n",
    "puts('Block #1')\n",
    "3.times do |i| # Estos, ahora por fin lo sé, se llaman block parameters\n",
    "    puts( i )\n",
    "end\n",
    "\n",
    "puts('Block #2')\n",
    "3.times { |i|\n",
    "    puts( i )\n",
    "}\n",
    "\n",
    "# Here's an example that avoids using a block\n",
    "def aMethod( i )\n",
    "\tputs( i )\n",
    "end\n",
    "\n",
    "puts('Method Call')\n",
    "for i in 0..2\n",
    "\taMethod( i )\n",
    "end"
   ]
  },
  {
   "cell_type": "markdown",
   "metadata": {},
   "source": [
    "### Uso de ``yield``"
   ]
  },
  {
   "cell_type": "markdown",
   "metadata": {},
   "source": [
    "Yield cede el control de ejecución al bloque que traiga pegado al momento de su ejecución, puede tomar argumentos para hacer esto, para mandar en este ejemplo dato dentro del bloque en cada iteración\n",
    "\n",
    "Funciona así:\n",
    "\n",
    "- Ejecución de .each\n",
    "- Ejecución caps('hello')\n",
    "- Caps tiene un yield dentro, toma el hello que recibió como argumento y se lo pasa a yield\n",
    "- Yield se lo pasa al bloque asociado a caps()\n",
    "- El bloque asociado a caps ejecuta sus tareas asignando lo recibido por yield al valor de x\n",
    "- Se repite el proceso.\n",
    "\n",
    "El bloque de primer nivel se encarga de realizar la iteración, el bloque de segundo nivel se encarga de aplicar la tarea que contiene a cada elemento iterado"
   ]
  },
  {
   "cell_type": "code",
   "execution_count": 53,
   "metadata": {},
   "outputs": [],
   "source": [
    "# The Book of Ruby - http://www.sapphiresteel.com\n",
    "\n",
    "# using 'yield' to execute a block\n",
    "# require 'debug'\n",
    "def aMethod\n",
    "\tputs('--- In aMethod ---' )\n",
    "\tyield\n",
    "end\n",
    "\n",
    "aMethod{ puts( \"aMethod invocación 1\" ) }\n",
    "\n",
    "\n",
    "def caps( anarg )\n",
    "\tputs('--- In caps method ---' )\n",
    "\tyield( anarg )\n",
    "end\n",
    "\n",
    "caps( \"un string con bajas caps\" ){ |x| x.capitalize! ; puts( x ) }\n",
    "\n",
    "puts( \"Un bloque dentro de otro por qué harías eso? ._.\" )\n",
    "# a block within a block\n",
    "#\n",
    "# binding.break\n",
    "# \n",
    "# PARTE DISCUTIDA EN LA EXPLICACIÓN DE ARRIBA\n",
    "[\"hello\",\"good day\",\"how do you do\"].each{ |s|\n",
    "\t  caps( s ){|x|\n",
    "      x.capitalize!\n",
    "      puts( x )\n",
    "\t}\n",
    "}"
   ]
  },
  {
   "cell_type": "markdown",
   "metadata": {},
   "source": [
    "### Usando Yield en la forma de objetos Proc"
   ]
  },
  {
   "cell_type": "markdown",
   "metadata": {},
   "source": [
    "> Si un método trae dentro un yield así afuera. ESTE NO ES OPCIONAL. Es un parámetro esperado, el método exigirá un yield y el programa se pegará si no lo tiene. Usar sentencias if o manejo de errores para evitar este comportamiento si no pasarás un bloque el 100% de las veces."
   ]
  },
  {
   "cell_type": "code",
   "execution_count": 54,
   "metadata": {},
   "outputs": [],
   "source": [
    "# The Book of Ruby - http://www.sapphiresteel.com\n",
    "\n",
    "def abc( a, b, c )\n",
    "\tputs('---abc---')\n",
    "\ta.call\n",
    "\tb.call\n",
    "\tc.call\n",
    "\tyield\n",
    "end\n",
    "\n",
    "# Los argumentos con & esperan recibir BLOQUES\n",
    "def abc2( &d )\n",
    "\tputs('---abc2---')\n",
    "\td.call # Lo ejecutará como un bloque porque eso es lo que espera que sea\n",
    "end\n",
    "\n",
    "def abc3( a, b, c, &d)\n",
    "\tputs('---abc3---')\n",
    "\ta.call\n",
    "\tb.call\n",
    "\tc.call\n",
    "\td.call\n",
    "\tyield\n",
    "end\n",
    "\n",
    "\n",
    "def xyz\n",
    "   puts('---xyz---')\n",
    "   x = 1\n",
    "   y = 2\n",
    "   z = 3\n",
    "  yield( x, y, z )\n",
    "end\n",
    "\n",
    "\n",
    "\n",
    "a = lambda{ puts \"one\" }\n",
    "b = lambda{ puts \"two\" }\n",
    "c = proc{ puts \"three\" }\n",
    "myproc = proc{ puts(\"my proc\") }\n",
    "\n",
    "# El metodo abc ejecuta todos sus procs sumado al que le vino de la ejecución, con un lindo yield\n",
    "abc(a, b, c ) { puts \"four\" }\n",
    "# El método abc2 espera dentro un bloque, se lo pasamos, lo usará como argumento asignado a una variable.\n",
    "#\n",
    "abc2{ puts \"four\" }\n",
    "# abc2( 10 ) # Los argumentos normales no están permitidos, solo bloques\n",
    "#\n",
    "#Si a abc3 le llega un bloque, lo guadará como variable &d para usarlo o llamarlo, y además le dejará ejecutarse con yield\n",
    "abc3(a, b, c){ puts \"five\" }\n",
    "#\n",
    "# Pasa lo mismo con un Proc ya declarado en una variable en el scope principal, tendrá que usar &myproc para entrar como argumento normal y dentro tendrá ambas ejecuciones\n",
    "abc3(a, b, c, &myproc )\n",
    "\n",
    "\n",
    "# Si el proc entra como argumento aquí, entonces el proc se ejecutará sin más si no hay nada que pueda hacer dentro\n",
    "xyz( &myproc ) #Por que no da error?\n",
    "\n",
    "# El proc se ejecuta tomando como argumento las variables dentro de la función, le han sido entregadas por yield\n",
    "xyz{ |a,b,c| puts(a+b+c) }\n",
    "puts( \"--- Final values off abc ---\" )\n",
    "puts( a, b, c )\n",
    "\n",
    "# Curiously this next line of code no longer works!\n",
    "#\n",
    "#\t    abc3(a, b, c, &myproc )\n",
    "#\n",
    "# ... this is because the block variables, a,b,c in this:\n",
    "#\t\txyz{ |a,b,c| puts(a+b+c) }\n",
    "#\t  have initialised to Fixnum (integers) when the xyz\n",
    "#\t  method is called. Verify this by executing the following:\n",
    "#\t\tputs( a, b, c )\n",
    "#\t  Ruby's scoping rules hold many surprises for the unwary!\n",
    "\n",
    "#En efecto ._."
   ]
  },
  {
   "cell_type": "markdown",
   "metadata": {},
   "source": [
    "### Problemas de precedencia a la hora de interactuar con bloques 💀"
   ]
  },
  {
   "cell_type": "markdown",
   "metadata": {},
   "source": [
    "> La condición ``block_given?`` es útil de tener en cuenta"
   ]
  },
  {
   "cell_type": "code",
   "execution_count": 55,
   "metadata": {},
   "outputs": [],
   "source": [
    "# The Book of Ruby - http://www.sapphiresteel.com\n",
    "\n",
    "# demonstrates precedence of {} v do..end blocks\n",
    "# Braces {} have stronger precedence.\n",
    "# So...\n",
    "#    foo bar do .. end\n",
    "# ... foo will be called with the block; bar is passed to foo as an arg\n",
    "#\n",
    "# But...\n",
    "#    foo bar{ .. }\n",
    "# ... bar will be called with the block and its return value passed \n",
    "#     to foo as an arg\n",
    "#\n",
    "# Use round braces to resolve the ambiguity:\n",
    "# e.g.\n",
    "# foo( bar  do..end ) # bar is called with block\n",
    "# foo( bar ) { .. }   # foo is called with block\n",
    "\n",
    "def foo( b )\n",
    "\tputs(\"---in foo---\")\n",
    "\ta = 'foo'\n",
    "\tif block_given?\n",
    "\t\tputs( \"(Block passed to foo)\" )\n",
    "\t\t yield( a )\n",
    "\telse\n",
    "\t\tputs( \"(no block passed to foo)\" )\n",
    "\tend\n",
    "\tputs( \"in foo, arg b = #{b}\" )\n",
    "\treturn \"returned by \" << a\n",
    "end\n",
    "\n",
    "def bar\n",
    "\tputs(\"---in bar---\")\n",
    "\ta = 'bar'\n",
    "\tif block_given?\n",
    "\t\tputs( \"(Block passed to bar)\" )\n",
    "\t\tyield( a )\n",
    "\telse\n",
    "\t\tputs( \"(no block passed to bar)\" )\n",
    "\tend\n",
    "\treturn \"returned by \" << a\n",
    "end\n",
    "\n",
    "\n",
    "\n",
    "# ========== Syntax \"A\" - do..end =======\n",
    "puts( '--- (A) do block ---' )\n",
    "# calls foo with block\n",
    "foo bar do |s| puts( s ) end\n",
    "\n",
    "# the above is equivalent to\n",
    "# foo( bar ) do |s| puts( s ) end\n",
    "#    or\n",
    "# foo( bar ) { |s| puts(s) }\n",
    "puts\n",
    "# ========== Syntax \"B\" - {} =======\n",
    "puts( '--- (B) curly braces block ---' )\n",
    "# calls bar with block\n",
    "foo bar{ |s| puts(s) }\n",
    "\n",
    "# the above is equivalent to\n",
    "# foo(bar{ |s| puts(s) })\n",
    "#    or\n",
    "# foo( bar do |s| puts( s ) end )"
   ]
  },
  {
   "cell_type": "markdown",
   "metadata": {},
   "source": [
    "#### Los bloques entre ``DO`` y ``END`` tiene precedencia ***más debil*** que los bloques entre ``llaves {}``"
   ]
  },
  {
   "cell_type": "code",
   "execution_count": 56,
   "metadata": {},
   "outputs": [],
   "source": [
    "# The Book of Ruby - http://www.sapphiresteel.com\n",
    "\n",
    "# demonstrates precedence of {} v do..end blocks\n",
    "# Braces {} have stronger precedence.\n",
    "# So...\n",
    "#    foo bar do .. end\n",
    "# ... foo will be called with the block; bar is passed to foo as an arg\n",
    "#\n",
    "# But...\n",
    "#    foo bar{ .. }\n",
    "# ... bar will be called with the block and its return value passed\n",
    "#     to foo as an arg\n",
    "#\n",
    "# Use round braces to resolve the ambiguity:\n",
    "# e.g.\n",
    "# foo( bar  do..end ) # bar is called with block\n",
    "# foo( bar ) { .. }   # foo is called with block\n",
    "\n",
    "# require 'debug'\n",
    "\n",
    "# Si se activa bar primero, el argumento b será el mensaje diciendo que bar ya se encargó\n",
    "# Si se activa foo primero, se procesará y enviará la respuesta de que el se encargó\n",
    "def foo( b )\n",
    "\tputs(\"---in foo---\")\n",
    "\ta = 'foo'\n",
    "\tif block_given?\n",
    "\t\tputs( \"(Block passed to foo)\" )\n",
    "\t\t yield( a )\n",
    "\telse\n",
    "\t\tputs( \"(no block passed to foo)\" )\n",
    "\tend\n",
    "\tputs( \"in foo, arg b = #{b}\" )\n",
    "\treturn \"returned by \" << a\n",
    "end\n",
    "\n",
    "# Si se activa foo primero, el argumento b será el mensaje diciendo que foo ya se encargó\n",
    "# Si se activa bar primero, se procesará y enviará la respuesta de que el se encargó\n",
    "def bar\n",
    "\tputs(\"---in bar---\")\n",
    "\ta = 'bar'\n",
    "\tif block_given?\n",
    "\t\tputs( \"(Block passed to bar)\" )\n",
    "\t\tyield( a )\n",
    "\telse\n",
    "\t\tputs( \"(no block passed to bar)\" )\n",
    "\tend\n",
    "\n",
    "  # Este return dará algo como \"returned by bar\", es otra forma de interpolar asumo\n",
    "\treturn \"returned by \" << a\n",
    "end\n",
    "\n",
    "\n",
    "\n",
    "# # ========== Syntax \"A\" - do..end =======\n",
    "# puts( '--- (A) do block ---' )\n",
    "# # calls foo with block\n",
    "# foo bar do |s| puts( s ) end\n",
    "\n",
    "# # the above is equivalent to\n",
    "# # foo( bar ) do |s| puts( s ) end\n",
    "# #    or\n",
    "# # foo( bar ) { |s| puts(s) }\n",
    "# puts\n",
    "# ========== Syntax \"B\" - {} =======\n",
    "puts( '--- (B) curly braces block ---' )\n",
    "# calls bar with block\n",
    "# \n",
    "#binding.break\n",
    "# ESTE SE IRÁ A BAR\n",
    "# \n",
    "foo bar{ |s| puts(s) }\n",
    "\n",
    "# Este ejemplo usa bar como argumento de foo, y además a foo le carga el objeto\n",
    "# Esto consigue que se ejecute bar primero\n",
    "# Luego se sigue ejecutando foo\n",
    "# Ya con la ejecución, actúa sobre el bloque\n",
    "# Continua su curso\n",
    "# foo(bar){ |s| puts(s) }\n",
    "# \n",
    "#\n",
    "# El comportamiento como siempre, puede intencionarse con paréntesis, para que ocurra una cosa u otra\n",
    "# ESTOS DARÁN COSAS DISTINTAS\n",
    "# foo (bar{ |s| puts(s) })\n",
    "# foo (bar){ |s| puts(s) }\n",
    "\n",
    "# the above is equivalent to\n",
    "# foo(bar{ |s| puts(s) })\n",
    "#    or\n",
    "# foo( bar do |s| puts( s ) end )\n"
   ]
  },
  {
   "cell_type": "markdown",
   "metadata": {},
   "source": [
    "### Al final siempre estaremos usando bloques para iterar... -W-"
   ]
  },
  {
   "cell_type": "code",
   "execution_count": 3,
   "metadata": {},
   "outputs": [
    {
     "name": "stdout",
     "output_type": "stream",
     "text": [
      "HOLA\n",
      "TILINES\n",
      "EMOJI\n",
      "BANANA\n"
     ]
    },
    {
     "data": {
      "text/plain": [
       "[\"Hola\", \"Tilines\", \"Emoji\", \"Banana\"]"
      ]
     },
     "execution_count": 3,
     "metadata": {},
     "output_type": "execute_result"
    }
   ],
   "source": [
    "[\"Hola\", \"Tilines\", \"Emoji\", \"Banana\"].each {|u| puts u.upcase }"
   ]
  },
  {
   "attachments": {
    "image.png": {
     "image/png": "[encoded data removed]"
    }
   },
   "cell_type": "markdown",
   "metadata": {},
   "source": [
    "### Quoute inspiradora del día\n",
    "\n",
    "![image.png](attachment:image.png)"
   ]
  },
  {
   "cell_type": "markdown",
   "metadata": {},
   "source": [
    "# Course workflow 🔥\n",
    "\n",
    "- We will be treating the Ruby Modules as Method collections\n",
    "- Code will be written in \"/my-source/\"\n",
    "- Examples of the code working will be called into the notebook via Instance Methods\n",
    "- Each module of the course will be called after a letter\n",
    "\n",
    "- A Kernel restar may be necessary after each change..."
   ]
  },
  {
   "cell_type": "markdown",
   "metadata": {},
   "source": [
    "# Homework ✏️\n",
    "\n",
    "- Re-write and learn from the Ruby programs in this repo \n",
    "    - Chapter 2\n",
    "    - Chapter 6\n",
    "    - Chapter 7"
   ]
  }
 ],
 "metadata": {
  "kernelspec": {
   "display_name": "Ruby 3.1.3",
   "language": "ruby",
   "name": "ruby"
  },
  "language_info": {
   "file_extension": ".rb",
   "mimetype": "application/x-ruby",
   "name": "ruby",
   "version": "3.1.3"
  }
 },
 "nbformat": 4,
 "nbformat_minor": 2
}
